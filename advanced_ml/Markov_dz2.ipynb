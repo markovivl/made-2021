{
 "cells": [
  {
   "cell_type": "code",
   "execution_count": 1,
   "metadata": {},
   "outputs": [],
   "source": [
    "import pandas as pd\n",
    "import numpy as np\n",
    "import random"
   ]
  },
  {
   "cell_type": "markdown",
   "metadata": {},
   "source": [
    "## Шаг 1."
   ]
  },
  {
   "cell_type": "markdown",
   "metadata": {},
   "source": [
    "Прочитайте и проанализируйте данные, выберите турниры, в которых есть данные о составах команд и повопросных результатах (поле mask в results.pkl). \n",
    "\n",
    "Для унификации предлагаю:\n",
    "\n",
    "- взять в тренировочный набор турниры с dateStart из 2019 года; \n",
    "- в тестовый — турниры с dateStart из 2020 года.\n"
   ]
  },
  {
   "cell_type": "code",
   "execution_count": 2,
   "metadata": {},
   "outputs": [],
   "source": [
    "players = pd.read_pickle('players.pkl')\n",
    "results = pd.read_pickle('results.pkl')\n",
    "tournaments = pd.read_pickle('tournaments.pkl')"
   ]
  },
  {
   "cell_type": "markdown",
   "metadata": {},
   "source": [
    "### players"
   ]
  },
  {
   "cell_type": "code",
   "execution_count": 3,
   "metadata": {},
   "outputs": [
    {
     "name": "stdout",
     "output_type": "stream",
     "text": [
      "204063\n"
     ]
    }
   ],
   "source": [
    "print(len(players))"
   ]
  },
  {
   "cell_type": "code",
   "execution_count": 4,
   "metadata": {},
   "outputs": [
    {
     "name": "stdout",
     "output_type": "stream",
     "text": [
      "{'id': 112708, 'name': 'Назар', 'patronymic': 'Батырович', 'surname': 'Бекмурадов'}\n",
      "{'id': 112709, 'name': 'Акджагуль', 'patronymic': '', 'surname': 'Аманова'}\n",
      "{'id': 112710, 'name': 'Недир', 'patronymic': '', 'surname': 'Кадыров'}\n",
      "{'id': 112711, 'name': 'Тач', 'patronymic': '', 'surname': 'Нарлыев'}\n",
      "{'id': 112712, 'name': 'Светлана', 'patronymic': '', 'surname': 'Яковлева'}\n",
      "{'id': 112713, 'name': 'Михаил', 'patronymic': '', 'surname': 'Дьяконов'}\n",
      "{'id': 112714, 'name': 'Мяхри', 'patronymic': '', 'surname': 'Баймурадова'}\n",
      "{'id': 112715, 'name': 'Мурад', 'patronymic': 'Язгельдыевич', 'surname': 'Аннаев'}\n",
      "{'id': 112716, 'name': 'Владимир', 'patronymic': 'Петрович', 'surname': 'Грамьяк'}\n",
      "{'id': 112717, 'name': 'Назар', 'patronymic': 'Степанович', 'surname': 'Мищук'}\n"
     ]
    }
   ],
   "source": [
    "for i in sorted(list(players.keys())[100000:100010]):\n",
    "    print(players[i])"
   ]
  },
  {
   "cell_type": "markdown",
   "metadata": {},
   "source": [
    "Мы видим, что табличка содержит просто данные об игроках, в частности их `id` и полные имена."
   ]
  },
  {
   "cell_type": "markdown",
   "metadata": {},
   "source": [
    "### tournaments"
   ]
  },
  {
   "cell_type": "code",
   "execution_count": 5,
   "metadata": {},
   "outputs": [
    {
     "data": {
      "text/plain": [
       "5528"
      ]
     },
     "execution_count": 5,
     "metadata": {},
     "output_type": "execute_result"
    }
   ],
   "source": [
    "len(tournaments)"
   ]
  },
  {
   "cell_type": "code",
   "execution_count": 6,
   "metadata": {},
   "outputs": [
    {
     "data": {
      "text/plain": [
       "{'id': 4000,\n",
       " 'name': 'Золотая лестница',\n",
       " 'dateStart': '2016-09-30T19:30:00+03:00',\n",
       " 'dateEnd': '2016-10-04T19:29:00+03:00',\n",
       " 'type': {'id': 3, 'name': 'Синхрон'},\n",
       " 'season': '/seasons/50',\n",
       " 'orgcommittee': [{'id': 22053,\n",
       "   'name': 'Виктор',\n",
       "   'patronymic': 'Владимирович',\n",
       "   'surname': 'Мялов'}],\n",
       " 'synchData': {'dateRequestsAllowedTo': '2016-10-03T23:59:59+03:00',\n",
       "  'resultFixesTo': '2016-10-14T23:59:59+03:00',\n",
       "  'resultsRecapsTo': '2016-10-05T23:59:59+03:00',\n",
       "  'allowAppealCancel': True,\n",
       "  'allowNarratorErrorAppeal': True,\n",
       "  'dateArchivedAt': '2016-10-21T23:59:59+03:00',\n",
       "  'dateDownloadQuestionsFrom': '2016-09-30T00:00:00+03:00',\n",
       "  'dateDownloadQuestionsTo': '2016-10-04T16:00:00+03:00',\n",
       "  'hideQuestionsTo': '2016-10-04T23:59:59+03:00',\n",
       "  'hideResultsTo': '2016-10-04T23:59:59+03:00',\n",
       "  'allVerdictsDone': None,\n",
       "  'instantControversial': True},\n",
       " 'questionQty': {'1': 12, '2': 12, '3': 12}}"
      ]
     },
     "execution_count": 6,
     "metadata": {},
     "output_type": "execute_result"
    }
   ],
   "source": [
    "tournaments[4000]"
   ]
  },
  {
   "cell_type": "markdown",
   "metadata": {},
   "source": [
    "Эта табличка -- данные о турнирах."
   ]
  },
  {
   "cell_type": "markdown",
   "metadata": {},
   "source": [
    "### results"
   ]
  },
  {
   "cell_type": "code",
   "execution_count": 7,
   "metadata": {},
   "outputs": [
    {
     "data": {
      "text/plain": [
       "5528"
      ]
     },
     "execution_count": 7,
     "metadata": {},
     "output_type": "execute_result"
    }
   ],
   "source": [
    "len(results)"
   ]
  },
  {
   "cell_type": "code",
   "execution_count": 8,
   "metadata": {},
   "outputs": [
    {
     "name": "stdout",
     "output_type": "stream",
     "text": [
      "[{'team': {'id': 37542, 'name': 'Саморазгружающийся полувагон', 'town': {'id': 201, 'name': 'Москва'}}, 'mask': '001111110101111101011011011011111101', 'current': {'name': 'Саморазгружающийся полувагон', 'town': {'id': 201, 'name': 'Москва'}}, 'questionsTotal': 26, 'synchRequest': {'id': 26407, 'venue': {'id': 3117, 'name': 'Москва'}}, 'position': 1, 'controversials': [], 'flags': [], 'teamMembers': [{'flag': 'Л', 'usedRating': 7063, 'rating': 7063, 'player': {'id': 41351, 'name': 'Роман', 'patronymic': 'Александрович', 'surname': 'Акасов'}}, {'flag': 'Б', 'usedRating': 4282, 'rating': 5139, 'player': {'id': 44851, 'name': 'Юлия', 'patronymic': 'Анатольевна', 'surname': 'Сычёва'}}, {'flag': 'Б', 'usedRating': 2885, 'rating': 4324, 'player': {'id': 2698, 'name': 'Анна', 'patronymic': 'Игоревна', 'surname': 'Бахарева'}}, {'flag': 'К', 'usedRating': 2164, 'rating': 4324, 'player': {'id': 41350, 'name': 'Виктория', 'patronymic': 'Евгеньевна', 'surname': 'Рыжих'}}, {'flag': 'Б', 'usedRating': 1266, 'rating': 3793, 'player': {'id': 71279, 'name': 'Кирилл', 'patronymic': 'Михайлович', 'surname': 'Бурдаков'}}]}, {'team': {'id': 42252, 'name': 'Pokerface', 'town': {'id': 147, 'name': 'Кишинёв'}}, 'mask': '101011110111111001010011000111001111', 'current': {'name': 'Pokerface', 'town': {'id': 147, 'name': 'Кишинёв'}}, 'questionsTotal': 23, 'synchRequest': {'id': 26493, 'venue': {'id': 3041, 'name': 'Кишинёв'}}, 'position': 2, 'controversials': [], 'flags': [], 'teamMembers': [{'flag': 'Л', 'usedRating': 6183, 'rating': 6183, 'player': {'id': 24428, 'name': 'Иван', 'patronymic': 'Иванович', 'surname': 'Пендус'}}, {'flag': 'К', 'usedRating': 4013, 'rating': 4816, 'player': {'id': 30007, 'name': 'Александр', 'patronymic': 'Викторович', 'surname': 'Соловьёв'}}, {'flag': 'Б', 'usedRating': 3211, 'rating': 4816, 'player': {'id': 76317, 'name': 'Юрий', 'patronymic': 'Георгиевич', 'surname': 'Лупан'}}, {'flag': 'Б', 'usedRating': 2408, 'rating': 4816, 'player': {'id': 76362, 'name': 'Владимир', 'patronymic': 'Анатолиевич', 'surname': 'Дроздов'}}, {'flag': 'Б', 'usedRating': 1605, 'rating': 4816, 'player': {'id': 97601, 'name': 'Корнелий', 'patronymic': '', 'surname': 'Кирица'}}, {'flag': None, 'usedRating': 271, 'rating': 1627, 'player': {'id': 76298, 'name': 'Максим', 'patronymic': 'Григорьевич', 'surname': 'Трифан'}}]}]\n"
     ]
    }
   ],
   "source": [
    "print(results[4000][:2])"
   ]
  },
  {
   "cell_type": "markdown",
   "metadata": {},
   "source": [
    "Эта табличка -- данные о повопросных результатах команд, их составах и позиций в итоговой турнирной таблице."
   ]
  },
  {
   "cell_type": "code",
   "execution_count": 10,
   "metadata": {},
   "outputs": [],
   "source": [
    "for v in results.values():\n",
    "    assert isinstance(v, list)\n",
    "    if len(v) > 0:\n",
    "        if 'mask' in v[0]:\n",
    "            cond = True\n",
    "            for item in v:\n",
    "                if 'mask' not in item:\n",
    "                    cond = False\n",
    "        assert cond == True, v"
   ]
  },
  {
   "cell_type": "markdown",
   "metadata": {},
   "source": [
    "Проверили что если ключ `mask` есть в первом словаре списка команд, то он есть и во всех остальных списках команд. Это правда, значит достаточно проверять только первую команду на наличие такого ключа."
   ]
  },
  {
   "cell_type": "code",
   "execution_count": 11,
   "metadata": {},
   "outputs": [],
   "source": [
    "def filter_tournaments(fig, date):\n",
    "    ans = [k for k, v in fig.items() if v['dateStart'][:4] == str(date)]\n",
    "    return ans\n",
    "\n",
    "def filter_results(fig):\n",
    "    ans = [k for k, v in fig.items() if (len(v) > 0) \\\n",
    "           and ('mask' in v[0].keys()) \\\n",
    "           and  (v[0]['mask'] is not None)]\n",
    "    return ans"
   ]
  },
  {
   "cell_type": "code",
   "execution_count": 12,
   "metadata": {},
   "outputs": [],
   "source": [
    "keys_tournaments_train = filter_tournaments(tournaments, 2019)\n",
    "keys_tournaments_test = filter_tournaments(tournaments, 2020)\n",
    "\n",
    "keys_results = filter_results(results)\n",
    "\n",
    "train_keys = list(set(keys_tournaments_train) & set(keys_results))\n",
    "test_keys = list(set(keys_tournaments_test) & set(keys_results))"
   ]
  },
  {
   "cell_type": "code",
   "execution_count": 13,
   "metadata": {},
   "outputs": [
    {
     "name": "stdout",
     "output_type": "stream",
     "text": [
      "[5496, 6063, 5156, 5526, 5783, 5479, 5978, 5860, 6135, 6097]\n"
     ]
    }
   ],
   "source": [
    "print(random.choices(train_keys, k=10))"
   ]
  },
  {
   "cell_type": "code",
   "execution_count": 14,
   "metadata": {},
   "outputs": [
    {
     "name": "stdout",
     "output_type": "stream",
     "text": [
      "[6124, 6285, 5848, 6325, 6247, 5798, 6245, 6247, 5970, 5707]\n"
     ]
    }
   ],
   "source": [
    "print(random.choices(test_keys, k=10))"
   ]
  },
  {
   "cell_type": "code",
   "execution_count": 15,
   "metadata": {},
   "outputs": [
    {
     "name": "stdout",
     "output_type": "stream",
     "text": [
      "674\n",
      "173\n"
     ]
    }
   ],
   "source": [
    "print(len(train_keys))\n",
    "print(len(test_keys))"
   ]
  },
  {
   "cell_type": "markdown",
   "metadata": {},
   "source": [
    "Можно заметить, что турниров $2020$ году было гораздо меньше, чем в $2019$. Необъяснимый феномен, further research needed."
   ]
  },
  {
   "cell_type": "code",
   "execution_count": 16,
   "metadata": {},
   "outputs": [],
   "source": [
    "from operator import itemgetter\n",
    "train_res = list(itemgetter(*train_keys)(results))\n",
    "test_res = list(itemgetter(*test_keys)(results))"
   ]
  },
  {
   "cell_type": "markdown",
   "metadata": {},
   "source": [
    "Также составим словарь где посчитаем общее число вопросов в каждом турнире."
   ]
  },
  {
   "cell_type": "code",
   "execution_count": 17,
   "metadata": {},
   "outputs": [],
   "source": [
    "train_tours = list(itemgetter(*train_keys)(tournaments))"
   ]
  },
  {
   "cell_type": "code",
   "execution_count": 18,
   "metadata": {},
   "outputs": [],
   "source": [
    "def get_table_question_qty(tours, ids):\n",
    "    defdict = dict()\n",
    "    for ident, tour in zip(ids, tours):\n",
    "        qty = sum(tour['questionQty'].values())\n",
    "        defdict[ident] = qty\n",
    "    return defdict"
   ]
  },
  {
   "cell_type": "code",
   "execution_count": 19,
   "metadata": {},
   "outputs": [],
   "source": [
    "qties = get_table_question_qty(train_tours, train_keys)"
   ]
  },
  {
   "cell_type": "code",
   "execution_count": 20,
   "metadata": {},
   "outputs": [
    {
     "data": {
      "text/plain": [
       "33311"
      ]
     },
     "execution_count": 20,
     "metadata": {},
     "output_type": "execute_result"
    }
   ],
   "source": [
    "sum(qties.values())"
   ]
  },
  {
   "cell_type": "markdown",
   "metadata": {},
   "source": [
    "Всего $33311$ вопросов. Это не очень много, так что мы сможем каждый вопрос из `train` просто пронумеровать."
   ]
  },
  {
   "cell_type": "markdown",
   "metadata": {},
   "source": [
    "# Шаг 2."
   ]
  },
  {
   "cell_type": "markdown",
   "metadata": {},
   "source": [
    "Постройте baseline-модель на основе линейной или логистической регрессии, которая будет обучать рейтинг-лист игроков. Замечания и подсказки:\n",
    "\n",
    "- повопросные результаты — это фактически результаты броска монетки, и их предсказание скорее всего имеет отношение к бинарной классификации;\n",
    "- в разных турнирах вопросы совсем разного уровня сложности, поэтому модель должна это учитывать; скорее всего, модель должна будет явно обучать не только силу каждого игрока, но и сложность каждого вопроса;\n",
    "- для baseline-модели можно забыть о командах и считать, что повопросные результаты команды просто относятся к каждому из её игроков.\n"
   ]
  },
  {
   "cell_type": "markdown",
   "metadata": {},
   "source": [
    "Построим таблицу, где объектами пары игрок-вопрос, где вопрос будет закодирован `one-hot` вектором из всех вопросов. Таргетом мы выберем правильность ответа на соответствующий вопрос.\n",
    "\n",
    "Также мы в `train` отфильтруем команды, которые пропустили часть вопросов и в целом упростим конфигурацию данных."
   ]
  },
  {
   "cell_type": "code",
   "execution_count": 21,
   "metadata": {},
   "outputs": [],
   "source": [
    "def get_team_members(team):\n",
    "    members = []\n",
    "    for member in team['teamMembers']:\n",
    "        ident = member['player']['id']\n",
    "        members.append(ident)\n",
    "    return np.array(members, dtype=np.int64)"
   ]
  },
  {
   "cell_type": "code",
   "execution_count": 22,
   "metadata": {},
   "outputs": [],
   "source": [
    "def get_team_results(members, mask, start_num):\n",
    "    q_nums = np.array(range(len(mask))) + start_num\n",
    "    team_results = np.vstack((\n",
    "        np.tile(members, len(mask)),\n",
    "        np.repeat(q_nums, len(members)),\n",
    "        np.repeat(mask, len(members))\n",
    "        ))\n",
    "    return team_results\n",
    "    "
   ]
  },
  {
   "cell_type": "code",
   "execution_count": 23,
   "metadata": {},
   "outputs": [],
   "source": [
    "def transform_xs(obj):\n",
    "    if obj == 'X' or obj == '?':\n",
    "        return 0\n",
    "    else:\n",
    "        return int(obj)\n",
    "    "
   ]
  },
  {
   "cell_type": "code",
   "execution_count": 24,
   "metadata": {},
   "outputs": [],
   "source": [
    "def create_table(ids, res_list):\n",
    "    start_num = 1\n",
    "    all_results = []\n",
    "    for ident, tournament in zip(ids, res_list):\n",
    "        total_q = qties[ident]\n",
    "        for team in tournament:\n",
    "            if (team['mask'] is None) or (len(team['mask'])) < total_q:\n",
    "                continue\n",
    "            else:\n",
    "                members = get_team_members(team)\n",
    "                mask = np.array(list(map(transform_xs, team['mask'])), dtype=np.int64) \n",
    "                results = np.transpose(get_team_results(members, mask, start_num))\n",
    "                all_results.append(results)\n",
    "        start_num += len(mask)\n",
    "    table_object = np.vstack(all_results)\n",
    "    return table_object\n",
    "            "
   ]
  },
  {
   "cell_type": "code",
   "execution_count": 25,
   "metadata": {},
   "outputs": [],
   "source": [
    "train_rawtable = create_table(train_keys, train_res)"
   ]
  },
  {
   "cell_type": "code",
   "execution_count": 26,
   "metadata": {},
   "outputs": [],
   "source": [
    "from sklearn.preprocessing import OneHotEncoder\n",
    "enc = OneHotEncoder(dtype=np.int32)"
   ]
  },
  {
   "cell_type": "code",
   "execution_count": 27,
   "metadata": {},
   "outputs": [
    {
     "name": "stderr",
     "output_type": "stream",
     "text": [
      "/home/markov/anaconda3/lib/python3.7/site-packages/sklearn/preprocessing/_encoders.py:415: FutureWarning: The handling of integer data will change in version 0.22. Currently, the categories are determined based on the range [0, max(values)], while in the future they will be determined based on the unique values.\n",
      "If you want the future behaviour and silence this warning, you can specify \"categories='auto'\".\n",
      "In case you used a LabelEncoder before this OneHotEncoder to convert the categories to integers, then you can now use the OneHotEncoder directly.\n",
      "  warnings.warn(msg, FutureWarning)\n"
     ]
    }
   ],
   "source": [
    "train_x = enc.fit_transform(train_rawtable[:, :2])\n",
    "train_y = train_rawtable[:, 2]"
   ]
  },
  {
   "cell_type": "code",
   "execution_count": 28,
   "metadata": {},
   "outputs": [
    {
     "data": {
      "text/plain": [
       "<17888755x90739 sparse matrix of type '<class 'numpy.int32'>'\n",
       "\twith 35777510 stored elements in Compressed Sparse Row format>"
      ]
     },
     "execution_count": 28,
     "metadata": {},
     "output_type": "execute_result"
    }
   ],
   "source": [
    "train_x"
   ]
  },
  {
   "cell_type": "code",
   "execution_count": 29,
   "metadata": {},
   "outputs": [],
   "source": [
    "from sklearn.linear_model import LogisticRegression"
   ]
  },
  {
   "cell_type": "code",
   "execution_count": 30,
   "metadata": {},
   "outputs": [],
   "source": [
    "baseline_model = LogisticRegression(penalty='l2', solver='liblinear')"
   ]
  },
  {
   "cell_type": "code",
   "execution_count": 31,
   "metadata": {},
   "outputs": [
    {
     "data": {
      "text/plain": [
       "LogisticRegression(C=1.0, class_weight=None, dual=False, fit_intercept=True,\n",
       "                   intercept_scaling=1, l1_ratio=None, max_iter=100,\n",
       "                   multi_class='warn', n_jobs=None, penalty='l2',\n",
       "                   random_state=None, solver='liblinear', tol=0.0001, verbose=0,\n",
       "                   warm_start=False)"
      ]
     },
     "execution_count": 31,
     "metadata": {},
     "output_type": "execute_result"
    }
   ],
   "source": [
    "baseline_model.fit(train_x, train_y)"
   ]
  },
  {
   "cell_type": "code",
   "execution_count": 32,
   "metadata": {},
   "outputs": [],
   "source": [
    "#sanity check\n",
    "assert len(enc.categories_[0]) + len(enc.categories_[1]) == len(baseline_model.coef_[0])"
   ]
  },
  {
   "cell_type": "markdown",
   "metadata": {},
   "source": [
    "Построим словарь из `id` в полное имя человека, чтобы было проще оценивать."
   ]
  },
  {
   "cell_type": "code",
   "execution_count": 33,
   "metadata": {},
   "outputs": [],
   "source": [
    "coefs_players = baseline_model.coef_[0][:len(enc.categories_[0])]\n",
    "coefs_qs = baseline_model.coef_[0][len(enc.categories_[0]):]\n",
    "\n",
    "ids = np.array(enc.categories_[0], dtype = np.dtype(int))"
   ]
  },
  {
   "cell_type": "code",
   "execution_count": 34,
   "metadata": {},
   "outputs": [],
   "source": [
    "def get_id_to_name(id_list):\n",
    "    id_to_name = {}\n",
    "    for ident in id_list:\n",
    "        full_name = players[ident]['name'] + ' ' + players[ident]['patronymic'] + ' ' + players[ident]['surname']\n",
    "        id_to_name[ident] = full_name\n",
    "    return id_to_name\n",
    "\n",
    "id_to_name = get_id_to_name(enc.categories_[0])"
   ]
  },
  {
   "cell_type": "markdown",
   "metadata": {},
   "source": [
    "Получим имена топ-20 игроков по нашей `baseline` модели."
   ]
  },
  {
   "cell_type": "code",
   "execution_count": 36,
   "metadata": {},
   "outputs": [
    {
     "name": "stdout",
     "output_type": "stream",
     "text": [
      "1.Максим Михайлович Руссо с рейтингом 4.161364534790012\n",
      "2.Александра Владимировна Брутер с рейтингом 4.034202057851307\n",
      "3.Иван Николаевич Семушин с рейтингом 3.9889656651681817\n",
      "4.Михаил Владимирович Савченков с рейтингом 3.9006253302120606\n",
      "5.Сергей Леонидович Спешков с рейтингом 3.8218851247659713\n",
      "6.Артём Сергеевич Сорожкин с рейтингом 3.82069831695976\n",
      "7.Станислав Григорьевич Мереминский с рейтингом 3.7039529315044937\n",
      "8.Михаил Ильич Левандовский с рейтингом 3.6494634148697767\n",
      "9.Ирина Сергеевна Прокофьева с рейтингом 3.60314328524208\n",
      "10.Сергей Игоревич Николенко с рейтингом 3.5872645404812875\n",
      "11.Антон Владимирович Саксонов с рейтингом 3.556971597576606\n",
      "12.Илья Сергеевич Новиков с рейтингом 3.556746054029322\n",
      "13.Александр Витальевич Либер с рейтингом 3.5392690509823987\n",
      "14.Игорь Викторович Мокин с рейтингом 3.516631939505424\n",
      "15.Александр Владимирович Мосягин с рейтингом 3.51631265170102\n",
      "16.Алексей Владимирович Гилёв с рейтингом 3.5131786053062615\n",
      "17.Михаил Сергеевич Царёв с рейтингом 3.504358850360979\n",
      "18.Дмитрий Александрович Карякин с рейтингом 3.499220551056083\n",
      "19.Александр Валерьевич Марков с рейтингом 3.49740458026303\n",
      "20.Наталья Евгеньевна Горелова с рейтингом 3.490140819638255\n"
     ]
    }
   ],
   "source": [
    "top_20_indices = np.argsort(coefs_players)[-20:][::-1]\n",
    "for num, index in enumerate(top_20_indices):\n",
    "    print(f'{num+1}.{id_to_name[ids[index]]} с рейтингом {coefs_players[index]}')"
   ]
  },
  {
   "cell_type": "markdown",
   "metadata": {},
   "source": [
    "Запишем наш \"рейтинг\" каждого игрока в словарь с ключом равным `id` игрока."
   ]
  },
  {
   "cell_type": "code",
   "execution_count": 37,
   "metadata": {},
   "outputs": [],
   "source": [
    "def get_id_to_rating(model):\n",
    "    coefs_players = model.coef_.flatten()[:len(enc.categories_[0])]\n",
    "    ids = np.array(enc.categories_[0], dtype = np.dtype(int))\n",
    "    id_to_rating = {k:v for k,v in zip(ids, coefs_players)}\n",
    "    return id_to_rating"
   ]
  },
  {
   "cell_type": "code",
   "execution_count": 38,
   "metadata": {},
   "outputs": [],
   "source": [
    "id_to_rating = get_id_to_rating(baseline_model)"
   ]
  },
  {
   "cell_type": "markdown",
   "metadata": {},
   "source": [
    "# Шаг 3."
   ]
  },
  {
   "cell_type": "markdown",
   "metadata": {},
   "source": [
    "Качество рейтинг-системы оценивается качеством предсказаний результатов турниров. Но сами повопросные результаты наши модели предсказывать вряд ли смогут, ведь неизвестно, насколько сложными окажутся вопросы в будущих турнирах; да и не нужны эти предсказания сами по себе. Поэтому:\n",
    "\n",
    "- предложите способ предсказать результаты нового турнира с известными составами, но неизвестными вопросами, в виде ранжирования команд;\n",
    "\n",
    "- в качестве метрики качества на тестовом наборе давайте считать ранговые корреляции Спирмена и Кендалла (их можно взять в пакете scipy) между реальным ранжированием в результатах турнира и предсказанным моделью, усреднённые по тестовому множеству турниров.\n"
   ]
  },
  {
   "cell_type": "markdown",
   "metadata": {},
   "source": [
    "В качестве способа предсказать результаты нового турнира можно предложить сортировку команд по усредненной силе игроков команды. Игроки с высоким рейтингом будут выше, чем игроки с низким. Новых игроков мы учитывать не будем, то есть будем считать что команда играет без них."
   ]
  },
  {
   "cell_type": "code",
   "execution_count": 39,
   "metadata": {},
   "outputs": [],
   "source": [
    "from scipy.stats import spearmanr, kendalltau"
   ]
  },
  {
   "cell_type": "code",
   "execution_count": 40,
   "metadata": {},
   "outputs": [],
   "source": [
    "def get_team_rating(members, id_to_rating):\n",
    "    ratings = []\n",
    "    for member in members:\n",
    "        rating = id_to_rating.get(member, 0)\n",
    "        if rating:\n",
    "            ratings.append(rating)\n",
    "    if len(ratings) > 0:\n",
    "        team_rating = np.mean(np.array(ratings))\n",
    "    else:\n",
    "        team_rating = 0\n",
    "    return team_rating"
   ]
  },
  {
   "cell_type": "code",
   "execution_count": 41,
   "metadata": {},
   "outputs": [],
   "source": [
    "def get_tourn_correlation(tournament, id_to_rating):\n",
    "    ratings = []\n",
    "    team_num = len(tournament)\n",
    "    if team_num > 1:\n",
    "        true_ranks = np.array(range(team_num))\n",
    "        for team in tournament:\n",
    "            members = get_team_members(team)\n",
    "            rating = get_team_rating(members, id_to_rating)\n",
    "            ratings.append(rating)\n",
    "        predicted_ranks = np.argsort(np.array(ratings))[::-1]\n",
    "        spearm = spearmanr(true_ranks, predicted_ranks)[0]\n",
    "        k_end_all = kendalltau(true_ranks, predicted_ranks)[0]\n",
    "    return spearm, k_end_all\n",
    "    \n",
    "    \n",
    "    "
   ]
  },
  {
   "cell_type": "code",
   "execution_count": 42,
   "metadata": {},
   "outputs": [],
   "source": [
    "def get_test_correlation(test_res, id_to_rating):\n",
    "    spearms = []\n",
    "    ks_and_alls = []\n",
    "    for tournament in test_res:\n",
    "        if len(tournament) > 1:\n",
    "            spearm, k_end_all = get_tourn_correlation(tournament, id_to_rating)\n",
    "            spearms.append(spearm)\n",
    "            ks_and_alls.append(k_end_all)\n",
    "        else:\n",
    "            spearms.append(1)\n",
    "            ks_and_alls.append(1)\n",
    "            continue\n",
    "    if len(spearms) > 0:\n",
    "        spearm_ans = np.mean(np.array(spearms))\n",
    "        ks_ans = np.mean(np.array(ks_and_alls))\n",
    "    else:\n",
    "        spearm_ans = 1\n",
    "        ks_ans = 1\n",
    "    return spearm_ans, ks_ans"
   ]
  },
  {
   "cell_type": "code",
   "execution_count": 43,
   "metadata": {},
   "outputs": [
    {
     "name": "stdout",
     "output_type": "stream",
     "text": [
      "Корелляция Спирмена baseline модели 0.75\n",
      "Корелляция Кендалла baseline модели 0.59\n"
     ]
    }
   ],
   "source": [
    "final_spearm, final_kendall = get_test_correlation(test_res, id_to_rating=id_to_rating)\n",
    "print(f'Корелляция Спирмена baseline модели {final_spearm:.2f}')\n",
    "print(f'Корелляция Кендалла baseline модели {final_kendall:.2f}')"
   ]
  },
  {
   "cell_type": "markdown",
   "metadata": {},
   "source": [
    "Для `baseline` модели совсем неплохо!"
   ]
  },
  {
   "cell_type": "markdown",
   "metadata": {},
   "source": [
    "# Шаг 4."
   ]
  },
  {
   "cell_type": "markdown",
   "metadata": {},
   "source": [
    "Теперь главное: ЧГК — это всё-таки командная игра. Поэтому:\n",
    "        \n",
    "- предложите способ учитывать то, что на вопрос отвечают сразу несколько игроков; скорее всего, понадобятся скрытые переменные; не стесняйтесь делать упрощающие предположения, но теперь переменные “игрок X ответил на вопрос Y” при условии данных должны стать зависимыми для игроков одной и той же команды;\n",
    "\n",
    "- разработайте EM-схему для обучения этой модели, реализуйте её в коде;\n",
    "\n",
    "- обучите несколько итераций, убедитесь, что целевые метрики со временем растут (скорее всего, ненамного, но расти должны), выберите лучшую модель, используя целевые метрики.\n"
   ]
  },
  {
   "cell_type": "markdown",
   "metadata": {},
   "source": [
    "Введем скрытые переменные \"игрок X ответил на вопрос Y\".\n",
    "На Е-шаге будем оценивать эту вероятность для каждого игрока команды, которая ответила на вопрос Y.\n",
    "На М-шаге будем обучать логистическую регрессию на метках с Е-шага и по ней оценивать параметры игроков и сложность вопросов."
   ]
  },
  {
   "cell_type": "markdown",
   "metadata": {},
   "source": [
    "## Е-шаг"
   ]
  },
  {
   "cell_type": "markdown",
   "metadata": {},
   "source": [
    "Для всех игроков команды, которые не ответили на вопрос, мы оставляем метку $0$. Для всех игроков, кто правильно ответили на вопрос, мы в качестве метки возьмем вероятность того, что именно этот игрок правильно ответил на вопрос, при условии что ответ был правильным.\n",
    "\n",
    "$$\n",
    "p({player}_{ik} = 1| y_i = 1) = \\frac{p({player}_{ik} = 1)}{1 - \\prod_i^{teamsize}({1 - p({player}_{ik} = 1)})}\n",
    "$$"
   ]
  },
  {
   "cell_type": "markdown",
   "metadata": {},
   "source": [
    "Нам понадобятся уникальные id команд."
   ]
  },
  {
   "cell_type": "code",
   "execution_count": 44,
   "metadata": {},
   "outputs": [],
   "source": [
    "def get_team_ids(ids, res_list):\n",
    "    team_ids = []\n",
    "    for ident, tournament in zip(ids, res_list):\n",
    "        total_q = qties[ident]\n",
    "        for team in tournament:\n",
    "            if (team['mask'] is None) or (len(team['mask'])) < total_q:\n",
    "                continue\n",
    "            else:\n",
    "                num_members = len(team['teamMembers'])\n",
    "                len_mask = len(team['mask'])\n",
    "                ids = [team['team']['id']] * num_members * len_mask\n",
    "                team_ids.extend(ids)\n",
    "                \n",
    "    return np.array(team_ids)\n",
    "\n",
    "team_ids = get_team_ids(train_keys, train_res)"
   ]
  },
  {
   "cell_type": "code",
   "execution_count": 45,
   "metadata": {},
   "outputs": [],
   "source": [
    "train_df = pd.DataFrame(train_rawtable, columns=['playerId', 'qId', 'target'])\n",
    "train_df.insert(0, 'teamId', team_ids)"
   ]
  },
  {
   "cell_type": "code",
   "execution_count": 46,
   "metadata": {},
   "outputs": [
    {
     "data": {
      "text/html": [
       "<div>\n",
       "<style scoped>\n",
       "    .dataframe tbody tr th:only-of-type {\n",
       "        vertical-align: middle;\n",
       "    }\n",
       "\n",
       "    .dataframe tbody tr th {\n",
       "        vertical-align: top;\n",
       "    }\n",
       "\n",
       "    .dataframe thead th {\n",
       "        text-align: right;\n",
       "    }\n",
       "</style>\n",
       "<table border=\"1\" class=\"dataframe\">\n",
       "  <thead>\n",
       "    <tr style=\"text-align: right;\">\n",
       "      <th></th>\n",
       "      <th>teamId</th>\n",
       "      <th>playerId</th>\n",
       "      <th>qId</th>\n",
       "      <th>target</th>\n",
       "    </tr>\n",
       "  </thead>\n",
       "  <tbody>\n",
       "    <tr>\n",
       "      <th>0</th>\n",
       "      <td>27254</td>\n",
       "      <td>27469</td>\n",
       "      <td>1</td>\n",
       "      <td>1</td>\n",
       "    </tr>\n",
       "    <tr>\n",
       "      <th>1</th>\n",
       "      <td>27254</td>\n",
       "      <td>57286</td>\n",
       "      <td>1</td>\n",
       "      <td>1</td>\n",
       "    </tr>\n",
       "    <tr>\n",
       "      <th>2</th>\n",
       "      <td>27254</td>\n",
       "      <td>155103</td>\n",
       "      <td>1</td>\n",
       "      <td>1</td>\n",
       "    </tr>\n",
       "    <tr>\n",
       "      <th>3</th>\n",
       "      <td>27254</td>\n",
       "      <td>41104</td>\n",
       "      <td>1</td>\n",
       "      <td>1</td>\n",
       "    </tr>\n",
       "    <tr>\n",
       "      <th>4</th>\n",
       "      <td>27254</td>\n",
       "      <td>57288</td>\n",
       "      <td>1</td>\n",
       "      <td>1</td>\n",
       "    </tr>\n",
       "    <tr>\n",
       "      <th>5</th>\n",
       "      <td>27254</td>\n",
       "      <td>155102</td>\n",
       "      <td>1</td>\n",
       "      <td>1</td>\n",
       "    </tr>\n",
       "    <tr>\n",
       "      <th>6</th>\n",
       "      <td>27254</td>\n",
       "      <td>27469</td>\n",
       "      <td>2</td>\n",
       "      <td>0</td>\n",
       "    </tr>\n",
       "    <tr>\n",
       "      <th>7</th>\n",
       "      <td>27254</td>\n",
       "      <td>57286</td>\n",
       "      <td>2</td>\n",
       "      <td>0</td>\n",
       "    </tr>\n",
       "    <tr>\n",
       "      <th>8</th>\n",
       "      <td>27254</td>\n",
       "      <td>155103</td>\n",
       "      <td>2</td>\n",
       "      <td>0</td>\n",
       "    </tr>\n",
       "    <tr>\n",
       "      <th>9</th>\n",
       "      <td>27254</td>\n",
       "      <td>41104</td>\n",
       "      <td>2</td>\n",
       "      <td>0</td>\n",
       "    </tr>\n",
       "  </tbody>\n",
       "</table>\n",
       "</div>"
      ],
      "text/plain": [
       "   teamId  playerId  qId  target\n",
       "0   27254     27469    1       1\n",
       "1   27254     57286    1       1\n",
       "2   27254    155103    1       1\n",
       "3   27254     41104    1       1\n",
       "4   27254     57288    1       1\n",
       "5   27254    155102    1       1\n",
       "6   27254     27469    2       0\n",
       "7   27254     57286    2       0\n",
       "8   27254    155103    2       0\n",
       "9   27254     41104    2       0"
      ]
     },
     "execution_count": 46,
     "metadata": {},
     "output_type": "execute_result"
    }
   ],
   "source": [
    "train_df.head(10)"
   ]
  },
  {
   "cell_type": "code",
   "execution_count": 47,
   "metadata": {},
   "outputs": [],
   "source": [
    "def e_step(preds):\n",
    "    new_df = train_df.copy(deep=True)\n",
    "    new_df['probas'] =  preds\n",
    "    new_df['minusprobas'] = 1 - preds\n",
    "    new_df['prod_minusprobas'] = new_df.groupby(['teamId',\n",
    "                                                 'qId'])['minusprobas'].transform('prod')\n",
    "    e_output = (new_df.probas / (1 - new_df.prod_minusprobas)) * new_df.target\n",
    "    return e_output.values"
   ]
  },
  {
   "cell_type": "markdown",
   "metadata": {},
   "source": [
    "## М-шаг"
   ]
  },
  {
   "cell_type": "markdown",
   "metadata": {},
   "source": [
    "На М-шаге нам понадобится обучить логистическую регрессию на \"мягких\" метках, чтобы получить уточненную аппроксимацию для наших скрытых переменных. Для этого мы применим `inverse_sigmoid` к нашим вероятностям, обучим на полученных значениях линейную регрессию, а к предсказаниям опять применим `sigmoid`-функцию, чтобы отразить полученные значения на отрезок $[0,1]$."
   ]
  },
  {
   "cell_type": "code",
   "execution_count": 48,
   "metadata": {},
   "outputs": [],
   "source": [
    "from sklearn.linear_model import LinearRegression, Ridge, Lasso"
   ]
  },
  {
   "cell_type": "code",
   "execution_count": 49,
   "metadata": {},
   "outputs": [],
   "source": [
    "def inverse_sigmoid(y):\n",
    "    return np.log(y / (1 - y))\n",
    "\n",
    "def sigmoid(x):\n",
    "    return 1 / (1 + np.exp(-x))"
   ]
  },
  {
   "cell_type": "code",
   "execution_count": 50,
   "metadata": {},
   "outputs": [],
   "source": [
    "def m_step(e_values):\n",
    "    model = LinearRegression()\n",
    "    clipped_e = np.clip(e_values, 1e-8, 1 - 1e-8)\n",
    "    curr_target = inverse_sigmoid(clipped_e)\n",
    "    model.fit(train_x, curr_target)\n",
    "    preds = sigmoid(model.predict(train_x))\n",
    "    return model, preds"
   ]
  },
  {
   "cell_type": "code",
   "execution_count": 51,
   "metadata": {},
   "outputs": [],
   "source": [
    "def em_process(num_steps):\n",
    "    baseline_preds = baseline_model.predict_proba(train_x)[:, 1]\n",
    "    curr_id_to_rating = get_id_to_rating(baseline_model)\n",
    "    curr_spearm, curr_kendall = get_test_correlation(test_res, curr_id_to_rating)\n",
    "    print(f'Корелляция Спирмена baseline модели {curr_spearm:.5f}')\n",
    "    print(f'Корелляция Кендалла baseline модели {curr_kendall:.5f}')\n",
    "    curr_e = e_step(baseline_preds)\n",
    "    for i in range(num_steps):\n",
    "        curr_model, curr_preds = m_step(curr_e)\n",
    "        curr_e = e_step(curr_preds)\n",
    "        curr_id_to_rating = get_id_to_rating(curr_model)\n",
    "        curr_spearm, curr_kendall  = get_test_correlation(test_res, curr_id_to_rating)\n",
    "        print()\n",
    "        print(f'Итерация {i+1}')\n",
    "        print(f'Корелляция Спирмена модели на {i+1} итерации ЕМ-алгоритма {curr_spearm:.5f}')\n",
    "        print(f'Корелляция Кендалла модели на {i+1} итерации ЕМ-алгоритма {curr_kendall:.5f}')\n",
    "        print()\n",
    "    return curr_model"
   ]
  },
  {
   "cell_type": "code",
   "execution_count": 52,
   "metadata": {},
   "outputs": [
    {
     "name": "stdout",
     "output_type": "stream",
     "text": [
      "Корелляция Спирмена baseline модели 0.75\n",
      "Корелляция Кендалла baseline модели 0.59\n",
      "\n",
      "Итерация 1\n",
      "Корелляция Спирмена модели на 1 итерации ЕМ-алгоритма 0.75315\n",
      "Корелляция Кендалла модели на 1 итерации ЕМ-алгоритма 0.58815\n",
      "\n",
      "\n",
      "Итерация 2\n",
      "Корелляция Спирмена модели на 2 итерации ЕМ-алгоритма 0.75202\n",
      "Корелляция Кендалла модели на 2 итерации ЕМ-алгоритма 0.58548\n",
      "\n",
      "\n",
      "Итерация 3\n",
      "Корелляция Спирмена модели на 3 итерации ЕМ-алгоритма 0.75373\n",
      "Корелляция Кендалла модели на 3 итерации ЕМ-алгоритма 0.58584\n",
      "\n",
      "\n",
      "Итерация 4\n",
      "Корелляция Спирмена модели на 4 итерации ЕМ-алгоритма 0.75701\n",
      "Корелляция Кендалла модели на 4 итерации ЕМ-алгоритма 0.58784\n",
      "\n"
     ]
    }
   ],
   "source": [
    "final_model = em_process(4)"
   ]
  },
  {
   "cell_type": "markdown",
   "metadata": {},
   "source": [
    "# Шаг 5."
   ]
  },
  {
   "cell_type": "markdown",
   "metadata": {},
   "source": [
    "А что там с вопросами? Постройте “рейтинг-лист” турниров по сложности вопросов. Соответствует ли он интуиции (например, на чемпионате мира в целом должны быть сложные вопросы, а на турнирах для школьников — простые)?"
   ]
  },
  {
   "cell_type": "code",
   "execution_count": 66,
   "metadata": {},
   "outputs": [],
   "source": [
    "coefs_players = final_model.coef_[:len(enc.categories_[0])]\n",
    "coefs_qs = final_model.coef_[len(enc.categories_[0]):]\n",
    "\n",
    "ids = np.array(enc.categories_[0], dtype = np.dtype(int))"
   ]
  },
  {
   "cell_type": "code",
   "execution_count": 67,
   "metadata": {},
   "outputs": [
    {
     "name": "stdout",
     "output_type": "stream",
     "text": [
      "1.Максим Игоревич Пилипенко с рейтингом 19.95153550964062\n",
      "2.Илья Сергеевич Немец с рейтингом 18.898525199801327\n",
      "3.Елена Борисовна Бровченко с рейтингом 16.60152033240781\n",
      "4.Ольга Александровна Козлова с рейтингом 15.37472411675872\n",
      "5.Майя Александровна Губина с рейтингом 15.27875732409602\n",
      "6.Дмитрий Сергеевич Кудинов с рейтингом 14.607066705928885\n",
      "7.Валентина  Подюкова с рейтингом 14.543563363604255\n",
      "8.Сергей Андреевич Завьялов с рейтингом 14.481579860447747\n",
      "9.Софья Павловна Молчанова с рейтингом 14.211518101766686\n",
      "10.Владимир Сергеевич Вакуленко с рейтингом 13.908379151256108\n",
      "11.Феликс  Фрайман с рейтингом 13.827854347728788\n",
      "12.Максим Михайлович Руссо с рейтингом 13.6200031665612\n",
      "13.Анна Сергеевна Печёнкина с рейтингом 13.581737185866917\n",
      "14.София Романовна Савенко с рейтингом 13.53433784246897\n",
      "15.София Евгеньевна Лебедева с рейтингом 13.526088103646206\n",
      "16.Георгий Михайлович Титов с рейтингом 13.456162222148672\n",
      "17.Светлана Александровна Обогрелова с рейтингом 13.399079731824314\n",
      "18.Андрей Дмитриевич Козенко с рейтингом 13.384377159239099\n",
      "19.Сергей Александрович Короткий с рейтингом 13.331200406733378\n",
      "20.Пётр Владимирович Беляев с рейтингом 13.327759591459083\n"
     ]
    }
   ],
   "source": [
    "top_20_indices = np.argsort(coefs_players)[-20:][::-1]\n",
    "for num, index in enumerate(top_20_indices):\n",
    "    print(f'{num+1}.{id_to_name[ids[index]]} с рейтингом {coefs_players[index]}')"
   ]
  },
  {
   "cell_type": "code",
   "execution_count": 136,
   "metadata": {},
   "outputs": [],
   "source": [
    "def get_tournament_coefs(keys):\n",
    "    coef_qs = final_model.coef_[len(enc.categories_[0]):]\n",
    "    tourn_coefs = []\n",
    "    for ident in keys:\n",
    "        total_q = qties[ident]\n",
    "        curr_coef = coef_qs[:total_q].mean()\n",
    "        tourn_coefs.append(curr_coef)\n",
    "        coef_qs = coef_qs[total_q:]\n",
    "    return tourn_coefs\n",
    "        \n",
    "        "
   ]
  },
  {
   "cell_type": "code",
   "execution_count": 137,
   "metadata": {},
   "outputs": [],
   "source": [
    "tourn_coefs = get_tournament_coefs(train_keys)"
   ]
  },
  {
   "cell_type": "code",
   "execution_count": 148,
   "metadata": {},
   "outputs": [],
   "source": [
    "top_10_difficult_id = np.argsort(tourn_coefs)[:10]\n",
    "top_10_easy_id = np.argsort(tourn_coefs)[-10:][::-1]"
   ]
  },
  {
   "cell_type": "code",
   "execution_count": 143,
   "metadata": {},
   "outputs": [
    {
     "name": "stdout",
     "output_type": "stream",
     "text": [
      "Топ-10 самых сложных турниров по версии модели.\n",
      "1. Чемпионат Санкт-Петербурга. Первая лига\n",
      "2. Угрюмый Ёрш\n",
      "3. Синхрон высшей лиги Москвы\n",
      "4. Воображаемый музей\n",
      "5. Первенство правого полушария\n",
      "6. Чемпионат Мира. Этап 2. Группа В\n",
      "7. Чемпионат России\n",
      "8. Знание – Сила VI\n",
      "9. Чемпионат Мира. Этап 2. Группа А\n",
      "10. Ускользающая сова\n"
     ]
    }
   ],
   "source": [
    "print('Топ-10 самых сложных турниров по версии модели.')\n",
    "for num, index in enumerate(top_10_difficult_id):\n",
    "    print(f\"{num + 1}. {tournaments[train_keys[index]]['name']}\")"
   ]
  },
  {
   "cell_type": "code",
   "execution_count": 153,
   "metadata": {},
   "outputs": [
    {
     "name": "stdout",
     "output_type": "stream",
     "text": [
      "Топ-10 самых простых турниров по версии модели.\n",
      "1. One ring - async\n",
      "2. (а)Синхрон-lite. Лига старта. Эпизод V\n",
      "3. Синхрон Лиги Разума\n",
      "4. Школьная лига. I тур.\n",
      "5. Школьная лига. III тур.\n",
      "6. Студенческий чемпионат Калининградской области\n",
      "7. Школьная лига\n",
      "8. Школьный Синхрон-lite. Выпуск 2.5\n",
      "9. (а)Синхрон-lite. Лига старта. Эпизод VII\n",
      "10. (а)Синхрон-lite. Лига старта. Эпизод IX\n"
     ]
    }
   ],
   "source": [
    "print('Топ-10 самых простых турниров по версии модели.')\n",
    "for num, index in enumerate(top_10_easy_id):\n",
    "    print(f\"{num + 1}. {tournaments[train_keys[index]]['name']}\")"
   ]
  },
  {
   "cell_type": "markdown",
   "metadata": {},
   "source": [
    "Наша модель показала неплохой результат! Однако, топ игроков у нее действительно не совпадает с топом `baseline` модели, которая достаточно точно его предсказывала. К сожалению, разобраться в бонусах с этой проблемой мы уже не успеваем :("
   ]
  },
  {
   "cell_type": "markdown",
   "metadata": {},
   "source": [
    "![мой любимый мем](https://pbs.twimg.com/media/EE5lcMrX4AAF7NF?format=jpg&name=medium)"
   ]
  }
 ],
 "metadata": {
  "kernelspec": {
   "display_name": "Python 3",
   "language": "python",
   "name": "python3"
  },
  "language_info": {
   "codemirror_mode": {
    "name": "ipython",
    "version": 3
   },
   "file_extension": ".py",
   "mimetype": "text/x-python",
   "name": "python",
   "nbconvert_exporter": "python",
   "pygments_lexer": "ipython3",
   "version": "3.7.6"
  }
 },
 "nbformat": 4,
 "nbformat_minor": 4
}
